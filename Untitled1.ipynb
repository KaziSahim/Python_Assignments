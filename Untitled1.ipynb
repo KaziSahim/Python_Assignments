{
  "nbformat": 4,
  "nbformat_minor": 0,
  "metadata": {
    "colab": {
      "provenance": [],
      "authorship_tag": "ABX9TyM2XNlrCoqLe99aor+lkdpX",
      "include_colab_link": true
    },
    "kernelspec": {
      "name": "python3",
      "display_name": "Python 3"
    },
    "language_info": {
      "name": "python"
    }
  },
  "cells": [
    {
      "cell_type": "markdown",
      "metadata": {
        "id": "view-in-github",
        "colab_type": "text"
      },
      "source": [
        "<a href=\"https://colab.research.google.com/github/KaziSahim/Python_Assignments/blob/main/Untitled1.ipynb\" target=\"_parent\"><img src=\"https://colab.research.google.com/assets/colab-badge.svg\" alt=\"Open In Colab\"/></a>"
      ]
    },
    {
      "cell_type": "code",
      "execution_count": 5,
      "metadata": {
        "colab": {
          "base_uri": "https://localhost:8080/"
        },
        "id": "ELb8Vn--G6Cp",
        "outputId": "9c5c644d-4ffc-4ab0-c79a-58dce3d311de"
      },
      "outputs": [
        {
          "output_type": "stream",
          "name": "stdout",
          "text": [
            "32\n",
            "14\n"
          ]
        }
      ],
      "source": [
        "def printDigonalSum(arr):\n",
        "  n =  len(arr)\n",
        "  primaryDigonalsum = 0\n",
        "  secondaryDigonalsum = 0\n",
        "  for i in range(n):\n",
        "    for j in range(n):\n",
        "      if i==j:\n",
        "        primaryDigonalsum += arr[i][j]\n",
        "      elif ((i+j) == n-1):\n",
        "        secondaryDigonalsum=arr[i][j]\n",
        "  print(primaryDigonalsum)\n",
        "  print(secondaryDigonalsum)\n",
        "arr=[[2,4,6],[8,11,13],[14,17,19]]\n",
        "result=printDigonalSum(arr)\n"
      ]
    },
    {
      "cell_type": "code",
      "source": [
        "print(result)"
      ],
      "metadata": {
        "colab": {
          "base_uri": "https://localhost:8080/"
        },
        "id": "6xi5QS1vIHoX",
        "outputId": "4ca99d3e-f6f5-4fbd-d7b2-47f94576ade2"
      },
      "execution_count": 4,
      "outputs": [
        {
          "output_type": "stream",
          "name": "stdout",
          "text": [
            "None\n"
          ]
        }
      ]
    },
    {
      "cell_type": "code",
      "source": [],
      "metadata": {
        "id": "SEXPDqYGIOVl"
      },
      "execution_count": null,
      "outputs": []
    }
  ]
}